{
 "cells": [
  {
   "cell_type": "markdown",
   "metadata": {},
   "source": [
    "## How to Label the ISCX Data\n",
    "\n",
    "\n",
    "### 1) Load the Data"
   ]
  },
  {
   "cell_type": "code",
   "execution_count": 1,
   "metadata": {},
   "outputs": [],
   "source": [
    "import pandas as pd\n",
    "from time import time"
   ]
  },
  {
   "cell_type": "code",
   "execution_count": 2,
   "metadata": {},
   "outputs": [
    {
     "name": "stdout",
     "output_type": "stream",
     "text": [
      "data loaded in 1.648654 seconds\n"
     ]
    }
   ],
   "source": [
    "#load the data\n",
    "t0 = time()\n",
    "data = pd.read_csv('ISCX_ISCX_Botnet.csv')\n",
    "t1 = time()\n",
    "print('data loaded in %f seconds'%(t1-t0),flush=True)"
   ]
  },
  {
   "cell_type": "markdown",
   "metadata": {},
   "source": [
    "### Shuffle the data"
   ]
  },
  {
   "cell_type": "code",
   "execution_count": 3,
   "metadata": {},
   "outputs": [],
   "source": [
    "data = data.sample(frac=1).reset_index(drop=True)"
   ]
  },
  {
   "cell_type": "code",
   "execution_count": 4,
   "metadata": {},
   "outputs": [
    {
     "data": {
      "text/plain": [
       "Index(['Source IP', ' Source Port', ' Destination IP', ' Destination Port',\n",
       "       ' Protocol', ' Flow Duration', ' Flow Bytes/s', ' Flow Packets/s',\n",
       "       ' Flow IAT Mean', ' Flow IAT Std', ' Flow IAT Max', ' Flow IAT Min',\n",
       "       'Fwd IAT Mean', ' Fwd IAT Std', ' Fwd IAT Max', ' Fwd IAT Min',\n",
       "       'Bwd IAT Mean', ' Bwd IAT Std', ' Bwd IAT Max', ' Bwd IAT Min',\n",
       "       'Active Mean', ' Active Std', ' Active Max', ' Active Min', 'Idle Mean',\n",
       "       ' Idle Std', ' Idle Max', ' Idle Min', 'label'],\n",
       "      dtype='object')"
      ]
     },
     "execution_count": 4,
     "metadata": {},
     "output_type": "execute_result"
    }
   ],
   "source": [
    "data.columns"
   ]
  },
  {
   "cell_type": "code",
   "execution_count": 5,
   "metadata": {},
   "outputs": [
    {
     "data": {
      "text/plain": [
       "(309206, 29)"
      ]
     },
     "execution_count": 5,
     "metadata": {},
     "output_type": "execute_result"
    }
   ],
   "source": [
    "data.shape"
   ]
  },
  {
   "cell_type": "code",
   "execution_count": 6,
   "metadata": {},
   "outputs": [],
   "source": [
    "#take a look at the data\n",
    "#data.head()"
   ]
  },
  {
   "cell_type": "code",
   "execution_count": 7,
   "metadata": {},
   "outputs": [
    {
     "data": {
      "text/plain": [
       "(10000, 29)"
      ]
     },
     "execution_count": 7,
     "metadata": {},
     "output_type": "execute_result"
    }
   ],
   "source": [
    "#take the first 10000 rows to save time\n",
    "data = data.iloc[:10000,:]\n",
    "data.shape"
   ]
  },
  {
   "cell_type": "markdown",
   "metadata": {},
   "source": [
    "### 2) Load list of IP addresses and their corresponding Botnet Names\n",
    "\n",
    "Data taken from: https://www.unb.ca/cic/datasets/botnet.html\n",
    "\n",
    "#### Also write functions to apply labelling according to Source and Destination IP addresses"
   ]
  },
  {
   "cell_type": "code",
   "execution_count": 8,
   "metadata": {},
   "outputs": [],
   "source": [
    "# load ip addresses and the labels\n",
    "ip1 = pd.read_csv('bots1.csv')\n",
    "ip2 = pd.read_csv('bots2.csv')"
   ]
  },
  {
   "cell_type": "code",
   "execution_count": 9,
   "metadata": {},
   "outputs": [],
   "source": [
    "#this function goes through the data one row at a time, checks the source IP and checkes if it exists in ip1\n",
    "#if so, then this row is given the Botnet label\n",
    "def find_class1(row):\n",
    "    sourceIP = str(row['Source IP'])\n",
    "    #destIP = str(row[' Destination IP'])\n",
    "    #print(sourceIP+' -- '+destIP)\n",
    "    for index, ip_row in ip1.iterrows():\n",
    "        #print('\\tcompare to: ' + ip_row['SrcIP']+' -- '+ip_row['DestIP'])\n",
    "        if sourceIP == ip_row['IP']:\n",
    "            s = ip_row['Bot']\n",
    "            return s\n",
    "    \n",
    "    return 'Other'"
   ]
  },
  {
   "cell_type": "code",
   "execution_count": 10,
   "metadata": {},
   "outputs": [],
   "source": [
    "# this function goes through the data one row at a time, checks the source and dest IPs and checkes if they both\n",
    "# exist in ip2, if so, then this row is given the Botnet label\n",
    "def find_class2(row):\n",
    "    sourceIP = str(row['Source IP'])\n",
    "    destIP = str(row[' Destination IP'])\n",
    "    #print(sourceIP+' -- '+destIP)\n",
    "    for index, ip_row in ip2.iterrows():\n",
    "        #print('\\tcompare to: ' + ip_row['SrcIP']+' -- '+ip_row['DestIP'])\n",
    "        if sourceIP == ip_row['SrcIP'] and destIP == ip_row['DestIP']:\n",
    "            s = ip_row['Bot']\n",
    "            return s\n",
    "    \n",
    "    return 'Other'        "
   ]
  },
  {
   "cell_type": "code",
   "execution_count": 11,
   "metadata": {},
   "outputs": [],
   "source": [
    "labels1 = data.apply(find_class1, axis=1)"
   ]
  },
  {
   "cell_type": "code",
   "execution_count": 12,
   "metadata": {},
   "outputs": [
    {
     "data": {
      "text/plain": [
       "4942"
      ]
     },
     "execution_count": 12,
     "metadata": {},
     "output_type": "execute_result"
    }
   ],
   "source": [
    "len(labels1[labels1 == 'Other']) "
   ]
  },
  {
   "cell_type": "code",
   "execution_count": 13,
   "metadata": {},
   "outputs": [],
   "source": [
    "labels2 = data.apply(find_class2, axis=1)"
   ]
  },
  {
   "cell_type": "code",
   "execution_count": 14,
   "metadata": {},
   "outputs": [
    {
     "data": {
      "text/plain": [
       "9858"
      ]
     },
     "execution_count": 14,
     "metadata": {},
     "output_type": "execute_result"
    }
   ],
   "source": [
    "len(labels2[labels2 == 'Other'])"
   ]
  },
  {
   "cell_type": "code",
   "execution_count": 15,
   "metadata": {},
   "outputs": [],
   "source": [
    "#len(ls1)"
   ]
  },
  {
   "cell_type": "code",
   "execution_count": 16,
   "metadata": {},
   "outputs": [],
   "source": [
    "ls1 = list(labels1.values)"
   ]
  },
  {
   "cell_type": "code",
   "execution_count": 17,
   "metadata": {},
   "outputs": [],
   "source": [
    "ls2 = list(labels2.values)"
   ]
  },
  {
   "cell_type": "code",
   "execution_count": 18,
   "metadata": {},
   "outputs": [
    {
     "data": {
      "text/plain": [
       "10000"
      ]
     },
     "execution_count": 18,
     "metadata": {},
     "output_type": "execute_result"
    }
   ],
   "source": [
    "len(ls1)"
   ]
  },
  {
   "cell_type": "code",
   "execution_count": 19,
   "metadata": {},
   "outputs": [],
   "source": [
    "label = list()"
   ]
  },
  {
   "cell_type": "code",
   "execution_count": 20,
   "metadata": {},
   "outputs": [],
   "source": [
    "# now if a label is \"Other\" in both lists, then it's Normal\n",
    "# if it's \"Other\" in one list only, then we assign the label from the other list\n",
    "for a, b in zip(ls1, ls2):\n",
    "    if a == 'Other' and b == 'Other':\n",
    "        label.append('Normal')\n",
    "    else:\n",
    "        if a == 'Other':\n",
    "            label.append(b)\n",
    "        else:\n",
    "            label.append(a)"
   ]
  },
  {
   "cell_type": "markdown",
   "metadata": {},
   "source": [
    "#### Here we add 'BotNet_Label' column to the data after we filled it as above"
   ]
  },
  {
   "cell_type": "code",
   "execution_count": 21,
   "metadata": {},
   "outputs": [],
   "source": [
    "data['BotNet_Label'] = label"
   ]
  },
  {
   "cell_type": "code",
   "execution_count": 22,
   "metadata": {},
   "outputs": [],
   "source": [
    "#remove spaces from column names\n",
    "data = data.rename(columns=lambda x: x.strip())"
   ]
  },
  {
   "cell_type": "code",
   "execution_count": 23,
   "metadata": {},
   "outputs": [
    {
     "data": {
      "text/plain": [
       "Normal                    4800\n",
       "Weasel Bot                2195\n",
       "Virut                     1422\n",
       "Neris                      737\n",
       "Murlo                      402\n",
       "Menti                      169\n",
       "IRC                        142\n",
       "Zero access                 65\n",
       "TBot                        23\n",
       "Zeus                        15\n",
       "Black hole 2                14\n",
       "Black hole 3                 4\n",
       "Sogou                        3\n",
       "Weasel Botmaster             3\n",
       "IRCbot and black hole1       2\n",
       "Smoke bot                    2\n",
       "RBot                         2\n",
       "Name: BotNet_Label, dtype: int64"
      ]
     },
     "execution_count": 23,
     "metadata": {},
     "output_type": "execute_result"
    }
   ],
   "source": [
    "# Explore BotNet_Label values\n",
    "data['BotNet_Label'].value_counts()"
   ]
  },
  {
   "cell_type": "code",
   "execution_count": 24,
   "metadata": {},
   "outputs": [],
   "source": [
    "#remove unimportant columns\n",
    "data.drop(['Source IP','Destination IP','label'],inplace=True,axis=1)"
   ]
  },
  {
   "cell_type": "markdown",
   "metadata": {},
   "source": [
    "### This is how to apply one-hot encoding using Pandas"
   ]
  },
  {
   "cell_type": "code",
   "execution_count": 25,
   "metadata": {},
   "outputs": [],
   "source": [
    "df_src_port = pd.get_dummies(data['Source Port'],prefix='SrcPort')\n",
    "df_dest_port = pd.get_dummies(data['Destination Port'],prefix='DestPort')\n",
    "df_protocol = pd.get_dummies(data['Protocol'],prefix='Protocol')"
   ]
  },
  {
   "cell_type": "code",
   "execution_count": 26,
   "metadata": {},
   "outputs": [
    {
     "data": {
      "text/plain": [
       "(10000, 7670)"
      ]
     },
     "execution_count": 26,
     "metadata": {},
     "output_type": "execute_result"
    }
   ],
   "source": [
    "data = pd.concat([data, df_src_port,df_dest_port,df_protocol], axis=1)\n",
    "data.shape"
   ]
  },
  {
   "cell_type": "code",
   "execution_count": 27,
   "metadata": {},
   "outputs": [
    {
     "data": {
      "text/plain": [
       "(10000, 7667)"
      ]
     },
     "execution_count": 27,
     "metadata": {},
     "output_type": "execute_result"
    }
   ],
   "source": [
    "data.drop(['Source Port','Destination Port','Protocol'],inplace=True,axis=1)\n",
    "data.shape"
   ]
  },
  {
   "cell_type": "markdown",
   "metadata": {},
   "source": [
    "### Save the Data .. it is ready for further analysis and machine learning"
   ]
  },
  {
   "cell_type": "code",
   "execution_count": 28,
   "metadata": {},
   "outputs": [
    {
     "name": "stdout",
     "output_type": "stream",
     "text": [
      "data saved in 28.528847 seconds\n"
     ]
    }
   ],
   "source": [
    "t0 = time()\n",
    "data.to_csv('ISCX_Botnet_Labelled.csv',index=False)\n",
    "t1 = time()\n",
    "print('data saved in %f seconds'%(t1-t0),flush=True)"
   ]
  },
  {
   "cell_type": "code",
   "execution_count": null,
   "metadata": {},
   "outputs": [],
   "source": []
  }
 ],
 "metadata": {
  "anaconda-cloud": {},
  "kernelspec": {
   "display_name": "Python 3",
   "language": "python",
   "name": "python3"
  },
  "language_info": {
   "codemirror_mode": {
    "name": "ipython",
    "version": 3
   },
   "file_extension": ".py",
   "mimetype": "text/x-python",
   "name": "python",
   "nbconvert_exporter": "python",
   "pygments_lexer": "ipython3",
   "version": "3.7.6"
  }
 },
 "nbformat": 4,
 "nbformat_minor": 1
}
